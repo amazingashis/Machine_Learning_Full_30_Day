{
  "nbformat": 4,
  "nbformat_minor": 0,
  "metadata": {
    "colab": {
      "name": "K Means Clustering.ipynb",
      "provenance": [],
      "collapsed_sections": [
        "tLCSgLOTdzku"
      ],
      "mount_file_id": "1Ej8oSDz-qcjTmJU2MFCHvSSO8_5w09Bm",
      "authorship_tag": "ABX9TyNHXphEA4d7b5HSiYXEtuWB",
      "include_colab_link": true
    },
    "kernelspec": {
      "name": "python3",
      "display_name": "Python 3"
    }
  },
  "cells": [
    {
      "cell_type": "markdown",
      "metadata": {
        "id": "view-in-github",
        "colab_type": "text"
      },
      "source": [
        "<a href=\"https://colab.research.google.com/github/amazingashis/Machine_Learning_Full_30_Day/blob/main/K_Means_Clustering.ipynb\" target=\"_parent\"><img src=\"https://colab.research.google.com/assets/colab-badge.svg\" alt=\"Open In Colab\"/></a>"
      ]
    },
    {
      "cell_type": "code",
      "metadata": {
        "id": "i9yPgYGtbqq0",
        "outputId": "75aef43c-1c54-4e4c-e62e-7008803beeba",
        "colab": {
          "base_uri": "https://localhost:8080/",
          "height": 84
        }
      },
      "source": [
        "import numpy as np\n",
        "import pandas as pd\n",
        "import matplotlib.pyplot as plt\n",
        "import collections #For fetching dictionary of labels & clusters\n",
        "import nltk #Natural Language Toolkit\n",
        "nltk.download('stopwords')\n",
        "nltk.download('punkt')\n",
        "from nltk import word_tokenize #Word tokenization is the process of splitting a large sample of text into words.\n",
        "from nltk.corpus import stopwords\n",
        "from nltk.stem import PorterStemmer #Normalizing Sentences\n",
        "from sklearn.cluster import KMeans\n",
        "from sklearn.feature_extraction.text import TfidfVectorizer"
      ],
      "execution_count": 1,
      "outputs": [
        {
          "output_type": "stream",
          "text": [
            "[nltk_data] Downloading package stopwords to /root/nltk_data...\n",
            "[nltk_data]   Unzipping corpora/stopwords.zip.\n",
            "[nltk_data] Downloading package punkt to /root/nltk_data...\n",
            "[nltk_data]   Unzipping tokenizers/punkt.zip.\n"
          ],
          "name": "stdout"
        }
      ]
    },
    {
      "cell_type": "markdown",
      "metadata": {
        "id": "AXuiEJlLpJq_"
      },
      "source": [
        "## Import Data"
      ]
    },
    {
      "cell_type": "markdown",
      "metadata": {
        "id": "tLCSgLOTdzku"
      },
      "source": [
        "\n",
        "\n",
        "\n"
      ]
    },
    {
      "cell_type": "code",
      "metadata": {
        "id": "V-s82Vw-iaLN",
        "outputId": "101a9be7-04ed-49c8-c5ab-746f3d4ccb1c",
        "colab": {
          "base_uri": "https://localhost:8080/",
          "height": 876
        }
      },
      "source": [
        "data = pd.read_csv(\"/content/drive/My Drive/Data/Quotes.csv\")\n",
        "data\n",
        "# My Dataset contains multiple sentences related to\n",
        "# Graphics, Snooker, Investment, Software Engineering, Artificial Intelligence, Aviation & Love"
      ],
      "execution_count": 4,
      "outputs": [
        {
          "output_type": "execute_result",
          "data": {
            "text/html": [
              "<div>\n",
              "<style scoped>\n",
              "    .dataframe tbody tr th:only-of-type {\n",
              "        vertical-align: middle;\n",
              "    }\n",
              "\n",
              "    .dataframe tbody tr th {\n",
              "        vertical-align: top;\n",
              "    }\n",
              "\n",
              "    .dataframe thead th {\n",
              "        text-align: right;\n",
              "    }\n",
              "</style>\n",
              "<table border=\"1\" class=\"dataframe\">\n",
              "  <thead>\n",
              "    <tr style=\"text-align: right;\">\n",
              "      <th></th>\n",
              "      <th>Quotes</th>\n",
              "    </tr>\n",
              "  </thead>\n",
              "  <tbody>\n",
              "    <tr>\n",
              "      <th>0</th>\n",
              "      <td>Graphics designers are most creative people</td>\n",
              "    </tr>\n",
              "    <tr>\n",
              "      <th>1</th>\n",
              "      <td>Artificial Intelligence or AI is the last inve...</td>\n",
              "    </tr>\n",
              "    <tr>\n",
              "      <th>2</th>\n",
              "      <td>Snooker is a billiards sport for normally two ...</td>\n",
              "    </tr>\n",
              "    <tr>\n",
              "      <th>3</th>\n",
              "      <td>Snooker is played on a large (12 feet by 6 fee...</td>\n",
              "    </tr>\n",
              "    <tr>\n",
              "      <th>4</th>\n",
              "      <td>FOREX is the stock market for trading currencies</td>\n",
              "    </tr>\n",
              "    <tr>\n",
              "      <th>5</th>\n",
              "      <td>Software Engineering is hotter and hotter topi...</td>\n",
              "    </tr>\n",
              "    <tr>\n",
              "      <th>6</th>\n",
              "      <td>Love is blind</td>\n",
              "    </tr>\n",
              "    <tr>\n",
              "      <th>7</th>\n",
              "      <td>Snooker is popular in the United Kingdom and m...</td>\n",
              "    </tr>\n",
              "    <tr>\n",
              "      <th>8</th>\n",
              "      <td>The flying or operating of aircraft is known a...</td>\n",
              "    </tr>\n",
              "    <tr>\n",
              "      <th>9</th>\n",
              "      <td>AI is likely to be either the best or worst th...</td>\n",
              "    </tr>\n",
              "    <tr>\n",
              "      <th>10</th>\n",
              "      <td>Design is Intelligence made visible.</td>\n",
              "    </tr>\n",
              "    <tr>\n",
              "      <th>11</th>\n",
              "      <td>Falling in love is like being on drugs.</td>\n",
              "    </tr>\n",
              "    <tr>\n",
              "      <th>12</th>\n",
              "      <td>There is only one happiness in Life to Love an...</td>\n",
              "    </tr>\n",
              "    <tr>\n",
              "      <th>13</th>\n",
              "      <td>Boeing 777 is considered world's largest econo...</td>\n",
              "    </tr>\n",
              "    <tr>\n",
              "      <th>14</th>\n",
              "      <td>Warren Buffet is famous for making good invest...</td>\n",
              "    </tr>\n",
              "    <tr>\n",
              "      <th>15</th>\n",
              "      <td>The biggest of the many uses of aviation are i...</td>\n",
              "    </tr>\n",
              "    <tr>\n",
              "      <th>16</th>\n",
              "      <td>All giant majors in Silicon Valley is focusing...</td>\n",
              "    </tr>\n",
              "    <tr>\n",
              "      <th>17</th>\n",
              "      <td>Investing in stocks and trading with them are ...</td>\n",
              "    </tr>\n",
              "    <tr>\n",
              "      <th>18</th>\n",
              "      <td>Google will fulfill its mission only when its ...</td>\n",
              "    </tr>\n",
              "    <tr>\n",
              "      <th>19</th>\n",
              "      <td>Being in love is the number one reason why peo...</td>\n",
              "    </tr>\n",
              "    <tr>\n",
              "      <th>20</th>\n",
              "      <td>Aviation refers to flying using an aircraft li...</td>\n",
              "    </tr>\n",
              "    <tr>\n",
              "      <th>21</th>\n",
              "      <td>Auomation is the biggest blessing given by Art...</td>\n",
              "    </tr>\n",
              "    <tr>\n",
              "      <th>22</th>\n",
              "      <td>Graphics Designing is high rated freelance sub...</td>\n",
              "    </tr>\n",
              "    <tr>\n",
              "      <th>23</th>\n",
              "      <td>Loving from a long distance actually strengthe...</td>\n",
              "    </tr>\n",
              "    <tr>\n",
              "      <th>24</th>\n",
              "      <td>Real love is able to awaken your soul.</td>\n",
              "    </tr>\n",
              "    <tr>\n",
              "      <th>25</th>\n",
              "      <td>Stuart Bingham is a champion of Snooker</td>\n",
              "    </tr>\n",
              "    <tr>\n",
              "      <th>26</th>\n",
              "      <td>Software Engineer has average salary of $170K ...</td>\n",
              "    </tr>\n",
              "    <tr>\n",
              "      <th>27</th>\n",
              "      <td>AI would have a low error rate compared to hum...</td>\n",
              "    </tr>\n",
              "  </tbody>\n",
              "</table>\n",
              "</div>"
            ],
            "text/plain": [
              "                                               Quotes\n",
              "0         Graphics designers are most creative people\n",
              "1   Artificial Intelligence or AI is the last inve...\n",
              "2   Snooker is a billiards sport for normally two ...\n",
              "3   Snooker is played on a large (12 feet by 6 fee...\n",
              "4    FOREX is the stock market for trading currencies\n",
              "5   Software Engineering is hotter and hotter topi...\n",
              "6                                       Love is blind\n",
              "7   Snooker is popular in the United Kingdom and m...\n",
              "8   The flying or operating of aircraft is known a...\n",
              "9   AI is likely to be either the best or worst th...\n",
              "10               Design is Intelligence made visible.\n",
              "11            Falling in love is like being on drugs.\n",
              "12  There is only one happiness in Life to Love an...\n",
              "13  Boeing 777 is considered world's largest econo...\n",
              "14  Warren Buffet is famous for making good invest...\n",
              "15  The biggest of the many uses of aviation are i...\n",
              "16  All giant majors in Silicon Valley is focusing...\n",
              "17  Investing in stocks and trading with them are ...\n",
              "18  Google will fulfill its mission only when its ...\n",
              "19  Being in love is the number one reason why peo...\n",
              "20  Aviation refers to flying using an aircraft li...\n",
              "21  Auomation is the biggest blessing given by Art...\n",
              "22  Graphics Designing is high rated freelance sub...\n",
              "23  Loving from a long distance actually strengthe...\n",
              "24             Real love is able to awaken your soul.\n",
              "25            Stuart Bingham is a champion of Snooker\n",
              "26  Software Engineer has average salary of $170K ...\n",
              "27  AI would have a low error rate compared to hum..."
            ]
          },
          "metadata": {
            "tags": []
          },
          "execution_count": 4
        }
      ]
    },
    {
      "cell_type": "code",
      "metadata": {
        "id": "yZk594eJjQbL"
      },
      "source": [
        "sentences_list = data[\"Quotes\"].tolist()"
      ],
      "execution_count": 5,
      "outputs": []
    },
    {
      "cell_type": "code",
      "metadata": {
        "id": "QiGS387mnuSp",
        "outputId": "4ed417c8-e0bf-4dee-e19c-07934c6ebe22",
        "colab": {
          "base_uri": "https://localhost:8080/",
          "height": 487
        }
      },
      "source": [
        "sentences_list"
      ],
      "execution_count": 7,
      "outputs": [
        {
          "output_type": "execute_result",
          "data": {
            "text/plain": [
              "['Graphics designers are most creative people',\n",
              " 'Artificial Intelligence or AI is the last invention - humans could ever make',\n",
              " 'Snooker is a billiards sport for normally two players.',\n",
              " 'Snooker is played on a large (12 feet by 6 feet) table that is covered with a smooth green material.',\n",
              " 'FOREX is the stock market for trading currencies',\n",
              " 'Software Engineering is hotter and hotter topic in Silicon Valley',\n",
              " 'Love is blind',\n",
              " 'Snooker is popular in the United Kingdom and many other countries',\n",
              " 'The flying or operating of aircraft is known as aviation.',\n",
              " 'AI is likely to be either the best or worst thing happen to humanity',\n",
              " 'Design is Intelligence made visible.',\n",
              " 'Falling in love is like being on drugs.',\n",
              " 'There is only one happiness in Life to Love and to be loved.',\n",
              " \"Boeing 777 is considered world's largest economical plane in the world of Aviation.\",\n",
              " 'Warren Buffet is famous for making good investments.He knows stock markets',\n",
              " 'The biggest of the many uses of aviation are in air travel and military aircraft.',\n",
              " 'All giant majors in Silicon Valley is focusing AI for their business productivity',\n",
              " 'Investing in stocks and trading with them are not that easy',\n",
              " \"Google will fulfill its mission only when its search engine is AI - complete You guys know what that means? That's Artificial Intelligence.\",\n",
              " 'Being in love is the number one reason why people wed.',\n",
              " 'Aviation refers to flying using an aircraft like an aeroplane.',\n",
              " 'Auomation is the biggest blessing given by Artificial Inteligence.',\n",
              " 'Graphics Designing is high rated freelance subject',\n",
              " 'Loving from a long distance actually strengthens a relationship',\n",
              " 'Real love is able to awaken your soul.',\n",
              " 'Stuart Bingham is a champion of Snooker',\n",
              " 'Software Engineer has average salary of $170K at Google',\n",
              " 'AI would have a low error rate compared to humans if coded properly. ']"
            ]
          },
          "metadata": {
            "tags": []
          },
          "execution_count": 7
        }
      ]
    },
    {
      "cell_type": "markdown",
      "metadata": {
        "id": "eQFlK15Ro-j4"
      },
      "source": [
        "# Defining a function tokenizer(text)"
      ]
    },
    {
      "cell_type": "code",
      "metadata": {
        "id": "MZtj5LlHnykK"
      },
      "source": [
        "def tokenizer(text):\n",
        "  tokens = word_tokenize(text) #Word tokenization is the process of splitting a large sample of text into words.\n",
        "  stemmer = PorterStemmer()\n",
        "\n",
        "  #Removing Morphhological axes\n",
        "  tokens = [stemmer.stem(t) for t in tokens if t not in stopwords.words('english')]\n",
        "  return tokens"
      ],
      "execution_count": 8,
      "outputs": []
    },
    {
      "cell_type": "markdown",
      "metadata": {
        "id": "K_ff9lYxo8_u"
      },
      "source": [
        ""
      ]
    }
  ]
}